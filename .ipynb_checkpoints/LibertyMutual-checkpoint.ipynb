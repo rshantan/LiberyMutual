{
 "cells": [
  {
   "cell_type": "markdown",
   "metadata": {},
   "source": [
    "##Import packages"
   ]
  },
  {
   "cell_type": "code",
   "execution_count": 2,
   "metadata": {
    "collapsed": false
   },
   "outputs": [],
   "source": [
    "%matplotlib inline\n",
    "\n",
    "import pandas as pd\n",
    "import numpy as np\n",
    "import matplotlib as plt\n",
    "import seaborn as sns\n",
    "from sklearn import ensemble\n",
    "from sklearn import preprocessing\n",
    "from sklearn import cross_validation\n",
    "from sklearn import svm"
   ]
  },
  {
   "cell_type": "markdown",
   "metadata": {},
   "source": [
    "##Read datasets"
   ]
  },
  {
   "cell_type": "code",
   "execution_count": 96,
   "metadata": {
    "collapsed": false
   },
   "outputs": [],
   "source": [
    "train = pd.read_csv('./data/raw/train.csv')\n",
    "test = pd.read_csv('./data/raw/test.csv')\n",
    "sample_sub = pd.read_csv('./data/raw/sample_submission.csv')"
   ]
  },
  {
   "cell_type": "markdown",
   "metadata": {},
   "source": [
    "### Select vars"
   ]
  },
  {
   "cell_type": "code",
   "execution_count": 97,
   "metadata": {
    "collapsed": false
   },
   "outputs": [],
   "source": [
    "categorical_vars = ['T1_V'+str(x) for x in [4,5,6,7,8,9,10,11,12,13,14,15,16,17]]\n",
    "vars_t2 = ['T2_V'+str(x) for x in [3,5,11,12,13]]\n",
    "categorical_vars.extend(vars_t2)\n",
    "\n",
    "for var in categorical_vars:\n",
    "    #print var\n",
    "    train[var] = train[var].astype('category')\n",
    "\n",
    "#train.dtypes"
   ]
  },
  {
   "cell_type": "markdown",
   "metadata": {},
   "source": [
    "###Model 05"
   ]
  },
  {
   "cell_type": "code",
   "execution_count": 211,
   "metadata": {
    "collapsed": true
   },
   "outputs": [],
   "source": [
    "numeric_vars = train.columns[~train.columns.isin(set(categorical_vars))]\n",
    "dataset = pd.concat([train[numeric_vars],pd.get_dummies(train[categorical_vars])], axis=1)\n",
    "test_2 = pd.concat([test[numeric_vars[2:]],pd.get_dummies(test[categorical_vars])], axis=1)\n",
    "\n",
    "X=dataset[dataset.columns[2:]]\n",
    "y=dataset[dataset.columns[1]]"
   ]
  },
  {
   "cell_type": "code",
   "execution_count": 100,
   "metadata": {
    "collapsed": false
   },
   "outputs": [
    {
     "data": {
      "text/plain": [
       "0.87220738406980614"
      ]
     },
     "execution_count": 100,
     "metadata": {},
     "output_type": "execute_result"
    }
   ],
   "source": [
    "model_rf = ensemble.RandomForestRegressor(n_estimators=100,n_jobs=3,random_state=42,oob_score=True,warm_start=False)\n",
    "model_rf.fit(X,y)\n",
    "model_rf.score(X,y)"
   ]
  },
  {
   "cell_type": "markdown",
   "metadata": {},
   "source": [
    "### Model 06"
   ]
  },
  {
   "cell_type": "code",
   "execution_count": 101,
   "metadata": {
    "collapsed": true
   },
   "outputs": [],
   "source": [
    "numeric_vars = train.columns[~train.columns.isin(set(categorical_vars))]\n",
    "dataset = pd.concat([train[numeric_vars],pd.get_dummies(train[categorical_vars])], axis=1)\n",
    "test_2 = pd.concat([test[numeric_vars[2:]],pd.get_dummies(test[categorical_vars])], axis=1)\n",
    "\n",
    "X=dataset[dataset.columns[2:]]\n",
    "y=dataset[dataset.columns[1]]"
   ]
  },
  {
   "cell_type": "code",
   "execution_count": 102,
   "metadata": {
    "collapsed": false,
    "scrolled": true
   },
   "outputs": [
    {
     "data": {
      "text/plain": [
       "0.87156201870085148"
      ]
     },
     "execution_count": 102,
     "metadata": {},
     "output_type": "execute_result"
    }
   ],
   "source": [
    "model_rf = ensemble.RandomForestRegressor(n_estimators=100,n_jobs=3,random_state=42,oob_score=True,warm_start=False)\n",
    "model_rf.fit(X[X.columns[~X.columns.isin(labels)]],y)\n",
    "model_rf.score(X[X.columns[~X.columns.isin(labels)]],y)"
   ]
  },
  {
   "cell_type": "markdown",
   "metadata": {},
   "source": [
    "### Model 07"
   ]
  },
  {
   "cell_type": "code",
   "execution_count": 31,
   "metadata": {
    "collapsed": false
   },
   "outputs": [],
   "source": [
    "train = pd.read_csv('./data/raw/train.csv')\n",
    "test = pd.read_csv('./data/raw/test.csv')\n",
    "sample_sub = pd.read_csv('./data/raw/sample_submission.csv')"
   ]
  },
  {
   "cell_type": "code",
   "execution_count": 32,
   "metadata": {
    "collapsed": false
   },
   "outputs": [],
   "source": [
    "categorical_vars = ['T1_V'+str(x) for x in [3,4,5,6,7,8,9,10,11,12,13,14,15,16,17]]\n",
    "vars_t2 = ['T2_V'+str(x) for x in [3,5,6,7,8,10,11,12,13,14,15]]\n",
    "categorical_vars.extend(vars_t2)\n",
    "\n",
    "for var in categorical_vars:\n",
    "    #print var\n",
    "    train[var] = train[var].astype('category')\n",
    "    test[var] = test[var].astype('category')\n",
    "    \n",
    "    \n",
    "#for var in train.columns:\n",
    "#    print var\n",
    "#    print train[var].dtype\n",
    "#    print train[var].unique()"
   ]
  },
  {
   "cell_type": "code",
   "execution_count": 33,
   "metadata": {
    "collapsed": false
   },
   "outputs": [],
   "source": [
    "numeric_vars = train.columns[~train.columns.isin(set(categorical_vars))]\n",
    "\n",
    "\n",
    "for var in numeric_vars[2:]:\n",
    "    train[var+'_2'] = pow(train[var],2)\n",
    "    test[var+'_2'] = pow(test[var],2)\n",
    "    "
   ]
  },
  {
   "cell_type": "code",
   "execution_count": 36,
   "metadata": {
    "collapsed": false
   },
   "outputs": [
    {
     "data": {
      "text/plain": [
       "<matplotlib.axes._subplots.AxesSubplot at 0x2c970ba8>"
      ]
     },
     "execution_count": 36,
     "metadata": {},
     "output_type": "execute_result"
    },
    {
     "data": {
      "image/png": "[encoded data removed]",
      "text/plain": [
       "<matplotlib.figure.Figure at 0x3784a128>"
      ]
     },
     "metadata": {},
     "output_type": "display_data"
    }
   ],
   "source": [
    "plt.pyplot.figure(figsize=(15,15))\n",
    "sns.corrplot(train[train.columns[1:]])"
   ]
  },
  {
   "cell_type": "code",
   "execution_count": 56,
   "metadata": {
    "collapsed": true
   },
   "outputs": [],
   "source": [
    "dataset = pd.concat([train[numeric_vars],pd.get_dummies(train[categorical_vars])], axis=1)\n",
    "test_2 = pd.concat([test[numeric_vars[2:]],pd.get_dummies(test[categorical_vars])], axis=1)\n",
    "\n",
    "X=dataset[dataset.columns[2:]]\n",
    "y=dataset[dataset.columns[1]]"
   ]
  },
  {
   "cell_type": "code",
   "execution_count": 57,
   "metadata": {
    "collapsed": false
   },
   "outputs": [
    {
     "data": {
      "text/plain": [
       "SVR(C=1.0, cache_size=200, coef0=0.0, degree=3, epsilon=0.1, gamma=0.0,\n",
       "  kernel='rbf', max_iter=-1, shrinking=True, tol=0.001, verbose=False)"
      ]
     },
     "execution_count": 57,
     "metadata": {},
     "output_type": "execute_result"
    }
   ],
   "source": [
    "clf = svm.SVR()\n",
    "clf.fit(X, y)"
   ]
  },
  {
   "cell_type": "markdown",
   "metadata": {},
   "source": [
    "### Normalized Gini Coefficient"
   ]
  },
  {
   "cell_type": "code",
   "execution_count": 58,
   "metadata": {
    "collapsed": false
   },
   "outputs": [],
   "source": [
    "#print model_rf.score(X,y)\n",
    "solution = pd.concat([pd.DataFrame(y),pd.DataFrame(Predictions)],axis=1)\n",
    "solution.columns = ['Actual','Prediction']"
   ]
  },
  {
   "cell_type": "code",
   "execution_count": 59,
   "metadata": {
    "collapsed": false
   },
   "outputs": [
    {
     "data": {
      "text/plain": [
       "0.42567160856903974"
      ]
     },
     "execution_count": 59,
     "metadata": {},
     "output_type": "execute_result"
    }
   ],
   "source": [
    "def gini_csharp_port(expected, predicted):\n",
    "    assert expected.shape[0] == predicted.shape[0], 'unequal number of rows'\n",
    "\n",
    "    # zip (index, predicted, expected)\n",
    "    _all = np.dstack((\n",
    "        np.arange(expected.shape[0]),\n",
    "        predicted,\n",
    "        expected))[0]\n",
    "\n",
    "    # order descending by predicted\n",
    "    # suborder ascending by index\n",
    "    sort_order = np.lexsort((_all[:, 0], -_all[:, 1]))\n",
    "    _all = _all[sort_order]\n",
    "\n",
    "    total_actual_losses = float(np.sum(expected))\n",
    "\n",
    "    population_delta = 1.0 / expected.shape[0]\n",
    "    accumulated_population_percentage_sum = 0\n",
    "    accumulated_loss_percentage_sum = 0\n",
    "\n",
    "    gini_sum = 0.0\n",
    "\n",
    "    for row in _all:\n",
    "        accumulated_loss_percentage_sum += (row[2] / total_actual_losses)\n",
    "        accumulated_population_percentage_sum += population_delta\n",
    "        gini_sum += (accumulated_loss_percentage_sum - \\\n",
    "            accumulated_population_percentage_sum)\n",
    "\n",
    "    gini = gini_sum / expected.shape[0]\n",
    "    return gini\n",
    "\n",
    "def gini_normalized_csharp_port(expected, predicted):\n",
    "    return gini_csharp_port(expected, predicted) / gini_csharp_port(expected, expected)\n",
    "\n",
    "gini_normalized_csharp_port(expected = solution.Actual,predicted = solution.Prediction)"
   ]
  },
  {
   "cell_type": "code",
   "execution_count": 60,
   "metadata": {
    "collapsed": false
   },
   "outputs": [
    {
     "data": {
      "image/png": "[encoded data removed]",
      "text/plain": [
       "<matplotlib.figure.Figure at 0x972173c8>"
      ]
     },
     "metadata": {},
     "output_type": "display_data"
    }
   ],
   "source": [
    "#plt.pyplot.plot()\n",
    "import seaborn as sns\n",
    "\n",
    "sns.distplot(solution.Actual, kde=False, rug=True);"
   ]
  },
  {
   "cell_type": "markdown",
   "metadata": {},
   "source": [
    "### Write Submission file"
   ]
  },
  {
   "cell_type": "code",
   "execution_count": 61,
   "metadata": {
    "collapsed": false
   },
   "outputs": [],
   "source": [
    "predictions = clf.predict(test_2[X.columns])\n",
    "sample_sub['Hazard'] = predictions\n",
    "sample_sub.to_csv('./submissions/submission_10_svm.csv',index=False)"
   ]
  },
  {
   "cell_type": "markdown",
   "metadata": {},
   "source": [
    "### XGBoost"
   ]
  },
  {
   "cell_type": "code",
   "execution_count": null,
   "metadata": {
    "collapsed": true
   },
   "outputs": [],
   "source": [
    "import pandas as pd\n",
    "import numpy as np \n",
    "from sklearn import preprocessing\n",
    "import xgboost as xgb\n",
    "from sklearn.feature_extraction import DictVectorizer\n",
    "\n",
    "\n",
    "def xgboost_pred(train,labels,test):\n",
    "\tparams = {}\n",
    "\tparams[\"objective\"] = \"reg:linear\"\n",
    "\tparams[\"eta\"] = 0.005\n",
    "\tparams[\"min_child_weight\"] = 6\n",
    "\tparams[\"subsample\"] = 0.7\n",
    "\tparams[\"colsample_bytree\"] = 0.7\n",
    "\tparams[\"scale_pos_weight\"] = 1\n",
    "\tparams[\"silent\"] = 1\n",
    "\tparams[\"max_depth\"] = 9\n",
    "    \n",
    "    \n",
    "\tplst = list(params.items())\n",
    "\n",
    "\t#Using 5000 rows for early stopping. \n",
    "\toffset = 4000\n",
    "\n",
    "\tnum_rounds = 10000\n",
    "\txgtest = xgb.DMatrix(test)\n",
    "\n",
    "\t#create a train and validation dmatrices \n",
    "\txgtrain = xgb.DMatrix(train[offset:,:], label=labels[offset:])\n",
    "\txgval = xgb.DMatrix(train[:offset,:], label=labels[:offset])\n",
    "\n",
    "\t#train using early stopping and predict\n",
    "\twatchlist = [(xgtrain, 'train'),(xgval, 'val')]\n",
    "\tmodel = xgb.train(plst, xgtrain, num_rounds, watchlist, early_stopping_rounds=120)\n",
    "\tpreds1 = model.predict(xgtest,ntree_limit=model.best_iteration)\n",
    "\n",
    "\n",
    "\t#reverse train and labels and use different 5k for early stopping. \n",
    "\t# this adds very little to the score but it is an option if you are concerned about using all the data. \n",
    "\ttrain = train[::-1,:]\n",
    "\tlabels = np.log(labels[::-1])\n",
    "\n",
    "\txgtrain = xgb.DMatrix(train[offset:,:], label=labels[offset:])\n",
    "\txgval = xgb.DMatrix(train[:offset,:], label=labels[:offset])\n",
    "\n",
    "\twatchlist = [(xgtrain, 'train'),(xgval, 'val')]\n",
    "\tmodel = xgb.train(plst, xgtrain, num_rounds, watchlist, early_stopping_rounds=120)\n",
    "\tpreds2 = model.predict(xgtest,ntree_limit=model.best_iteration)\n",
    "\n",
    "\n",
    "\t#combine predictions\n",
    "\t#since the metric only cares about relative rank we don't need to average\n",
    "\tpreds = (preds1)*1.4 + (preds2)*8.6\n",
    "\treturn preds"
   ]
  },
  {
   "cell_type": "code",
   "execution_count": null,
   "metadata": {
    "collapsed": true
   },
   "outputs": [],
   "source": [
    "#load train and test \n",
    "train  = pd.read_csv('./data/train.csv', index_col=0)\n",
    "test  = pd.read_csv('./data/test.csv', index_col=0)\n",
    "\n",
    "\n",
    "labels = train.Hazard\n",
    "train.drop('Hazard', axis=1, inplace=True)\n",
    "\n",
    "train_s = train\n",
    "test_s = test\n",
    "\n",
    "\n",
    "train_s.drop('T2_V10', axis=1, inplace=True)\n",
    "train_s.drop('T2_V7', axis=1, inplace=True)\n",
    "train_s.drop('T1_V13', axis=1, inplace=True)\n",
    "train_s.drop('T1_V10', axis=1, inplace=True)\n",
    "\n",
    "test_s.drop('T2_V10', axis=1, inplace=True)\n",
    "test_s.drop('T2_V7', axis=1, inplace=True)\n",
    "test_s.drop('T1_V13', axis=1, inplace=True)\n",
    "test_s.drop('T1_V10', axis=1, inplace=True)\n",
    "\n",
    "columns = train.columns\n",
    "test_ind = test.index\n",
    "\n",
    "\n",
    "train_s = np.array(train_s)\n",
    "test_s = np.array(test_s)\n",
    "\n",
    "# label encode the categorical variables\n",
    "for i in range(train_s.shape[1]):\n",
    "    lbl = preprocessing.LabelEncoder()\n",
    "    lbl.fit(list(train_s[:,i]) + list(test_s[:,i]))\n",
    "    train_s[:,i] = lbl.transform(train_s[:,i])\n",
    "    test_s[:,i] = lbl.transform(test_s[:,i])\n",
    "\n",
    "train_s = train_s.astype(float)\n",
    "test_s = test_s.astype(float)\n",
    "\n",
    "\n",
    "preds1 = xgboost_pred(train_s,labels,test_s)\n",
    "\n",
    "#model_2 building\n",
    "\n",
    "train = train.T.to_dict().values()\n",
    "test = test.T.to_dict().values()\n",
    "\n",
    "vec = DictVectorizer()\n",
    "train = vec.fit_transform(train)\n",
    "test = vec.transform(test)\n",
    "\n",
    "preds2 = xgboost_pred(train,labels,test)\n",
    "\n",
    "\n",
    "preds = 0.47 * (preds1**0.2) + 0.53 * (preds2**0.8)\n",
    "\n",
    "#generate solution\n",
    "preds = pd.DataFrame({\"Id\": test_ind, \"Hazard\": preds})\n",
    "preds = preds.set_index('Id')\n",
    "preds.to_csv('xgboost_benchmark_3.csv')"
   ]
  }
 ],
 "metadata": {
  "kernelspec": {
   "display_name": "Python 2",
   "language": "python",
   "name": "python2"
  },
  "language_info": {
   "codemirror_mode": {
    "name": "ipython",
    "version": 2
   },
   "file_extension": ".py",
   "mimetype": "text/x-python",
   "name": "python",
   "nbconvert_exporter": "python",
   "pygments_lexer": "ipython2",
   "version": "2.7.6"
  }
 },
 "nbformat": 4,
 "nbformat_minor": 0
}
